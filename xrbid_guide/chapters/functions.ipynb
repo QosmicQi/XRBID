{
 "cells": [
  {
   "cell_type": "markdown",
   "id": "2d8541b4",
   "metadata": {},
   "source": [
    "# Examples of `XRBID` Functions\n",
    "Throughout this guide, I've included several examples of how to use the functions accessible through `XRBID`. Here, I compile more examples of the functions in `XRBID` and how they may be used, especially those not discussed in the main guide. \n",
    "\n",
    "```{important}\n",
    "This section is under construction!\n",
    "```"
   ]
  },
  {
   "cell_type": "markdown",
   "id": "11b16247",
   "metadata": {},
   "source": [
    "## RunPhots()\n",
    "As of version 1.5.0, RunPhots() now takes three aperture radii: `min_rad`, `max_rad`, and `extended_rad`. `min_rad` corresponds to the aperture radius used to take photometry of a point source (i.e. a star) and should usually remain at 3 pixels, unless a good argument can be made for a better aperture radius for stars in a particular galaxy. `max_rad` should always remain at 20, since the aperture correction out to infinity is taken from 20 pixels to infinity, unless you know what you're doing with this code. The new parameter, `extended_rad`, represents the radius of extended sources. This should be set to the pixel radius of a standard cluster in your galaxy. The default is 10 pixels, as this was a good setting for clusters in M81, but you should always check your own data to see if a smaller or larger aperture radius is better suited to your particular data set. \n",
    "\n",
    "For M101, which is 2 Mpc farther than M81, I found that clusters are well-constrained by an aperture radius of 8 pixels. Thus, when running `RunPhots()` for M101, I set `extended_rad = 8`: "
   ]
  },
  {
   "cell_type": "markdown",
   "id": "0a07ab1c",
   "metadata": {},
   "source": [
    "```\n",
    "from XRBID.AutoPhots import RunPhots\n",
    "from astropy.io import fits \n",
    "\n",
    "hdu = fits.open(\"M101_mosaic_acs_f555w_drc_sci.fits\")\n",
    "\n",
    "RunPhots(hdu, gal=\"M101\", instrument=\"acs\", filter=\"F555W\", \n",
    "         fwhm_arcs=0.3, num_stars=25, extended_rad=8)\n",
    "         \n",
    "hdu = fits.open(\"M101_mosaic_acs_f814w_drc_sci.fits\")\n",
    "\n",
    "RunPhots(hdu, gal=\"M101\", instrument=\"acs\", filter=\"F814W\", \n",
    "         fwhm_arcs=0.3, num_stars=25, extended_rad=8)\n",
    "\n",
    "hdu = fits.open(\"testdata/M101_mosaic_acs_f435w_drc_sci.fits\")\n",
    "\n",
    "RunPhots(hdu, gal=\"M101\", instrument=\"acs\", filter=\"F435W\", \n",
    "         fwhm_arcs=0.3, num_stars=25, extended_rad=8)\n",
    "```"
   ]
  },
  {
   "cell_type": "code",
   "execution_count": null,
   "id": "88ae6d99",
   "metadata": {},
   "outputs": [],
   "source": []
  }
 ],
 "metadata": {
  "kernelspec": {
   "display_name": "Python (jupyterbook)",
   "language": "python",
   "name": "jupyterbook"
  },
  "language_info": {
   "codemirror_mode": {
    "name": "ipython",
    "version": 3
   },
   "file_extension": ".py",
   "mimetype": "text/x-python",
   "name": "python",
   "nbconvert_exporter": "python",
   "pygments_lexer": "ipython3",
   "version": "3.12.7"
  }
 },
 "nbformat": 4,
 "nbformat_minor": 5
}
