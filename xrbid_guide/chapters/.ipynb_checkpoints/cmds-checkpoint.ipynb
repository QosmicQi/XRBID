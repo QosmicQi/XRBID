{
 "cells": [
  {
   "cell_type": "markdown",
   "id": "f83b011f",
   "metadata": {},
   "source": [
    "(chap:cmds)= \n",
    "# Estimating XRB Masses with CMDs and CCDs"
   ]
  },
  {
   "cell_type": "markdown",
   "id": "26328846",
   "metadata": {},
   "source": [
    "X-ray sources that are associated with point sources (i.e. stars) or compact star clusters and that are not flagged as SNR are considered genuine XRBs. The masses of their donor stars, then, are obtained by comparing their photometry across the filters available to us to stellar evolutionary models. The most useful tools for this process are color-magnitude diagrams (CMDs) and color-color diagrams (CCDs). The former is used to estimate the mass of isolated XRBs, while the latter allows us to approximate the most likely donor star mass of XRBs that exist within compact star clusters. \n",
    "\n",
    ":::{grid} 2\n",
    ":class-container: text-center\n",
    "\n",
    ":::{grid-item}\n",
    "![CMD](../images/example_cmd.png){width=200px}\n",
    ":::\n",
    "\n",
    ":::{grid-item}\n",
    "![CCD](../images/example_ccd.png){width=200px}\n",
    ":::\n",
    ":::\n",
    "\n",
    "This chapter demonstrates how to pull the photometry of each point source or cluster, calculate their magnitudes, and compare their magnitudes and colors to the models included in the `XRBID` package. "
   ]
  },
  {
   "cell_type": "markdown",
   "id": "e588dc36",
   "metadata": {},
   "source": [
    "(sec:getphots)=\n",
    "## Extracting photometry with `GetDaoPhots()`\n",
    "\n",
    "Before we can create a CMD or CCD, we need to extract the photometry of each optical counterpart in each filter. Following the procedures in {ref}`sec:crossref`, the `DataFrame` named `DaoCleanMatch` now contains the name of each X-ray source (`CSC ID`), and the ID of each point source that falls within 2-$\\sigma$ in each filter (`F555W ID`, `F435W ID`, `F814W ID`). To pull each point source's photometry from the appropriate filter data file, we use `XRBID.Sources.GetDaoPhots()`:"
   ]
  },
  {
   "cell_type": "code",
   "execution_count": 3,
   "id": "4c9c62b4",
   "metadata": {},
   "outputs": [
    {
     "ename": "SyntaxError",
     "evalue": "incomplete input (575269775.py, line 8)",
     "output_type": "error",
     "traceback": [
      "\u001b[0;36m  Cell \u001b[0;32mIn[3], line 8\u001b[0;36m\u001b[0m\n\u001b[0;31m    GetDaoPhots(df, daofiles,\u001b[0m\n\u001b[0m                              ^\u001b[0m\n\u001b[0;31mSyntaxError\u001b[0m\u001b[0;31m:\u001b[0m incomplete input\n"
     ]
    }
   ],
   "source": [
    "from XRBID.Sources import LoadSources, GetDaoPhots\n",
    "\n",
    "# Ideally, you would run this on a DataFrame containing only point sources or clusters,\n",
    "# but for this demonstration, I'll pull the info for all previously-identified \n",
    "# objects from the DaoClean() step of this guide\n",
    "DaoCleanMatch = LoadSources(\"../testdata/M101_daoclean_matches.frame\")\n",
    "\n",
    "#GetDaoPhots(df, daofiles, "
   ]
  },
  {
   "cell_type": "code",
   "execution_count": null,
   "id": "e30bf7a3",
   "metadata": {},
   "outputs": [],
   "source": []
  }
 ],
 "metadata": {
  "kernelspec": {
   "display_name": "Python (jupyterbook)",
   "language": "python",
   "name": "jupyterbook"
  },
  "language_info": {
   "codemirror_mode": {
    "name": "ipython",
    "version": 3
   },
   "file_extension": ".py",
   "mimetype": "text/x-python",
   "name": "python",
   "nbconvert_exporter": "python",
   "pygments_lexer": "ipython3",
   "version": "3.12.7"
  }
 },
 "nbformat": 4,
 "nbformat_minor": 5
}
