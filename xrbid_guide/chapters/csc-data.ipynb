{
 "cells": [
  {
   "cell_type": "markdown",
   "id": "56ea7c93-b84e-4a09-a01d-2994c05e4ee3",
   "metadata": {},
   "source": [
    "(chap:csc-data)=\n",
    "# Retrieving X-ray Data from the `CSC`"
   ]
  },
  {
   "cell_type": "markdown",
   "id": "fee9395b-7219-459a-9f4a-88ffdcf0d6be",
   "metadata": {},
   "source": [
    "For my work, the most important information that I need from *CXO* is the coordinates of the X-ray sources (used to locate their optical counterparts on an *HST* image), their X-ray luminosities (calculated from the `CSC`-provided flux), their hardness ratios (used to determine whether or not they may be a supernova remnant in a later section), the off-axis angle, and the total X-ray counts (the last two of which are used to calculate the uncertainty radii in {ref}`chap:astrometry`). This information can be pulled directly from `CSCView.jar`.\n",
    "\n",
    "Open the program by clicking the icon or typing into the command line (where it is saved): \n",
    "```\n",
    "java -jar cscview.jar &\n",
    "```\n",
    "(The optional `&` allows you to continue using the terminal for other processes while `cscview.jar` is running)\n",
    "\n",
    "This will open the program GUI, which will look something like: "
   ]
  },
  {
   "cell_type": "markdown",
   "id": "8f442be1-3614-4823-9a3d-3fcbc68d2f7a",
   "metadata": {},
   "source": [
    "```{image} ../images/cscview.png\n",
    ":name: fig-cscview\n",
    "\n",
    "Example search using the CSCView desktop app.\n",
    "```"
   ]
  },
  {
   "cell_type": "markdown",
   "id": "56c5cf9b-769a-44cf-a47f-674c9f4245e8",
   "metadata": {},
   "source": [
    "Select the most recent data release. Under `Source Properties`, search for hardness ratio or `hard_hs` and add it to the Result Set with the `+` button. Do the same for off-axis angle (`theta` or `theta_mean`) and total X-ray counts ({cite:p}`lehmer19` appears to use `src_cnts_aper_b`, `src_cnts_aper_lolim_b`, and `src_cnts_aper_hilim_b`).\n",
    "All other results can be left as is, or you may remove the properties that you won't need to save memory. You can save the query for future use by clicking the `Save` button at the top of the window. By default, it is saved with the suffix `.prop`."
   ]
  },
  {
   "cell_type": "markdown",
   "id": "582b9a71-d40e-4309-8c39-9e5b6ff9733f",
   "metadata": {},
   "source": [
    "```{note}\n",
    "There may be additional data needed in order to clean up the X-ray source catalog such that only good data are included in your analysis. Since I focused mainly on X-ray sources identified in {cite:p}`lehmer19`, which did this step for me, I never had to deal with this. However, it's something that will need to be kept in mind for future products. See {cite:p}`lehmer19` for more information on data selection from `CSC`.\n",
    "```"
   ]
  },
  {
   "cell_type": "markdown",
   "id": "e603b7cd-6740-447a-b21f-06d4bf1f75f4",
   "metadata": {},
   "source": [
    "To search for the *CXO*  X-ray sources associated with your galaxy of interest, select `Cone` under `Position Search` at the bottom of the window and search for the galaxy of interest by name or coordinates. In the example above, I am looking for X-ray sources in M101, which has a linear diameter of roughly 30 arcminutes. I set the search parameters accordingly and hit the `Search` button at the top left of the window. This automatically brings you from the `Query` tab to the `Results` tab, from which you can select all the X-ray sources and save them to a `.vot` file. \n",
    "\n",
    "```{note}\n",
    "You will need to press the `Search` button every time you make a change in the `Query` tab. Otherwise, your search results may not be updated!\n",
    "```\n",
    "\n",
    "To view the `.vot` file, open `TopCat`: \n",
    "```\n",
    "java -jar topcat-full.jar\n",
    "```\n",
    "(or whatever equivalent you saved it under). This will open a window that resembles the following: \n",
    "\n"
   ]
  },
  {
   "cell_type": "markdown",
   "id": "ff140da6-f0ee-4a20-b165-edaf6439a1f3",
   "metadata": {},
   "source": [
    "```{figure} ../images/topcat.png\n",
    ":name: fig-topcat\n",
    "\n",
    "Example of the TOPCAT user interface.\n",
    "```"
   ]
  },
  {
   "cell_type": "markdown",
   "id": "244a5509-9a33-440e-b49a-0cf6ae0e47ac",
   "metadata": {},
   "source": [
    "\n",
    "In the GUI above, navigate to the `.vot` file via the `Filestore Browser` or `System Browser` interface. This will pull up the file information under `Current Table Properties`. The 4th icon at the top of the window (looks like a spreadsheet) will open the `Table Browser`, which allows you to view the table as a spreadsheet. \n",
    "\n",
    "(sec:csc-dataframe)=\n",
    "## Converting from `VOTable` to Pandas `DataFrame`\n",
    "\n",
    "In the repository for this guide, I've included custom code that I use to convert `.vot` files into Pandas `DataFrames` in `python`, a function called `NewSources()` from the `Sources.py` script. To use this function, you simply need to open run something like this in an iPython notebook:\n"
   ]
  },
  {
   "cell_type": "code",
   "execution_count": 2,
   "id": "d838bc79-962d-4b0c-9916-fd499e119fa5",
   "metadata": {
    "scrolled": true
   },
   "outputs": [
    {
     "ename": "ModuleNotFoundError",
     "evalue": "No module named 'XRBID'",
     "output_type": "error",
     "traceback": [
      "\u001b[0;31m---------------------------------------------------------------------------\u001b[0m",
      "\u001b[0;31mModuleNotFoundError\u001b[0m                       Traceback (most recent call last)",
      "Cell \u001b[0;32mIn[2], line 7\u001b[0m\n\u001b[1;32m      4\u001b[0m cd \u001b[38;5;241m=\u001b[39m os\u001b[38;5;241m.\u001b[39mchdir\n\u001b[1;32m      5\u001b[0m pwd \u001b[38;5;241m=\u001b[39m os\u001b[38;5;241m.\u001b[39mgetcwd\n\u001b[0;32m----> 7\u001b[0m \u001b[38;5;28;01mfrom\u001b[39;00m \u001b[38;5;21;01mXRBID\u001b[39;00m\u001b[38;5;21;01m.\u001b[39;00m\u001b[38;5;21;01mSources\u001b[39;00m \u001b[38;5;28;01mimport\u001b[39;00m NewSources\n\u001b[1;32m      9\u001b[0m NewSources(\u001b[38;5;124m\"\u001b[39m\u001b[38;5;124mtestdata/cscresults_M101.vot\u001b[39m\u001b[38;5;124m\"\u001b[39m) \u001b[38;5;66;03m# I saved my .vot to a directory called 'testdata'\u001b[39;00m\n",
      "\u001b[0;31mModuleNotFoundError\u001b[0m: No module named 'XRBID'"
     ]
    }
   ],
   "source": [
    "# When running python from a notebook, it's good to import a function\n",
    "# that will allow you to navigate your directories\n",
    "import os\n",
    "cd = os.chdir\n",
    "pwd = os.getcwd\n",
    "\n",
    "from XRBID.Sources import NewSources\n",
    "\n",
    "NewSources(\"testdata/cscresults_M101.vot\") # I saved my .vot to a directory called 'testdata'\n"
   ]
  },
  {
   "cell_type": "markdown",
   "id": "97fbb6ec-0382-4752-a311-bf9ffe9fae9d",
   "metadata": {},
   "source": [
    "This will read in the table exactly as written. Keep in mind, the code will need to point towards where `Sources.py` and your `.vot` file(s) are saved on your computer! If you want to rename the headers or save the `Dataframe` to a file, you can do so using: "
   ]
  },
  {
   "cell_type": "markdown",
   "id": "87e51d2a",
   "metadata": {},
   "source": [
    "```\n",
    "NewSources(\"testdata/cscresults_M101.vot\", rename=True, \\\n",
    "           outfile=\"testdata/cscresults_M101.frame\")\n",
    "```"
   ]
  },
  {
   "cell_type": "markdown",
   "id": "2b1ecf59",
   "metadata": {},
   "source": [
    "```{figure} ../images/newsources_output.png\n",
    ":width: 500px\n",
    ":align: center\n",
    "```"
   ]
  },
  {
   "cell_type": "markdown",
   "id": "5b2b3ef3-aee2-4e53-a641-5635d571ae46",
   "metadata": {},
   "source": [
    "The code above will prompt you to rename each of the headers within the `.vot` Table, then save the `DataFrame` as a comma-separated value that is easily read in by `pd.read_csv()` or, better yet, my custom function `Sources.LoadSources()`. The latter is a little slower, but it will automatically remove the index column of the `CSV` file and convert applicable values from strings into actual numbers as the `DataFrame` is being built. This is usually very helpful during the analysis stage, so I recommend using `LoadSources()` as long as it's working properly. \n",
    "\n",
    "You should also save these sources as a region file that can be loaded into `DS9` or `CARTA` to overlay onto an *HST* `FITS` file. This can be done fairly simply with `WriteScript.WriteReg()`. "
   ]
  }
 ],
 "metadata": {
  "kernelspec": {
   "display_name": "Python 3 (ipykernel)",
   "language": "python",
   "name": "python3"
  },
  "language_info": {
   "codemirror_mode": {
    "name": "ipython",
    "version": 3
   },
   "file_extension": ".py",
   "mimetype": "text/x-python",
   "name": "python",
   "nbconvert_exporter": "python",
   "pygments_lexer": "ipython3",
   "version": "3.12.7"
  }
 },
 "nbformat": 4,
 "nbformat_minor": 5
}
