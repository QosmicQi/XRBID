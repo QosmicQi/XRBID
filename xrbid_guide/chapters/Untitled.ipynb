{
 "cells": [
  {
   "cell_type": "code",
   "execution_count": 1,
   "id": "e275414b",
   "metadata": {},
   "outputs": [],
   "source": [
    "import XRBID"
   ]
  },
  {
   "cell_type": "code",
   "execution_count": 3,
   "id": "40c4b54f",
   "metadata": {},
   "outputs": [
    {
     "ename": "ModuleNotFoundError",
     "evalue": "No module named 'XRBID.Sources'",
     "output_type": "error",
     "traceback": [
      "\u001b[0;31m---------------------------------------------------------------------------\u001b[0m",
      "\u001b[0;31mModuleNotFoundError\u001b[0m                       Traceback (most recent call last)",
      "Cell \u001b[0;32mIn[3], line 1\u001b[0m\n\u001b[0;32m----> 1\u001b[0m \u001b[38;5;28;01mfrom\u001b[39;00m \u001b[38;5;21;01mXRBID\u001b[39;00m\u001b[38;5;21;01m.\u001b[39;00m\u001b[38;5;21;01mSources\u001b[39;00m \u001b[38;5;28;01mimport\u001b[39;00m LoadSources\n",
      "\u001b[0;31mModuleNotFoundError\u001b[0m: No module named 'XRBID.Sources'"
     ]
    }
   ],
   "source": [
    "from XRBID.Sources import LoadSources"
   ]
  },
  {
   "cell_type": "code",
   "execution_count": 4,
   "id": "37dc7f3e",
   "metadata": {},
   "outputs": [
    {
     "name": "stdout",
     "output_type": "stream",
     "text": [
      "/Users/qianahunt/anaconda3/envs/jupyterbook/bin/python\n",
      "XRBID imported successfully\n"
     ]
    }
   ],
   "source": [
    "import sys\n",
    "print(sys.executable)\n",
    "\n",
    "import XRBID\n",
    "print(\"XRBID imported successfully\")"
   ]
  },
  {
   "cell_type": "code",
   "execution_count": 5,
   "id": "8aab3ec7",
   "metadata": {},
   "outputs": [
    {
     "name": "stdout",
     "output_type": "stream",
     "text": [
      "['__doc__', '__file__', '__loader__', '__name__', '__package__', '__path__', '__spec__']\n"
     ]
    }
   ],
   "source": [
    "import XRBID\n",
    "print(dir(XRBID))\n"
   ]
  },
  {
   "cell_type": "code",
   "execution_count": 6,
   "id": "559630e1",
   "metadata": {},
   "outputs": [
    {
     "name": "stdout",
     "output_type": "stream",
     "text": [
      "None\n"
     ]
    }
   ],
   "source": [
    "import XRBID\n",
    "print(XRBID.__file__)\n"
   ]
  },
  {
   "cell_type": "code",
   "execution_count": 7,
   "id": "0eb7d50a",
   "metadata": {},
   "outputs": [],
   "source": [
    "from XRBID import XRBID"
   ]
  },
  {
   "cell_type": "code",
   "execution_count": 8,
   "id": "a78c4458",
   "metadata": {},
   "outputs": [
    {
     "ename": "ModuleNotFoundError",
     "evalue": "No module named 'XRBID.Headers'",
     "output_type": "error",
     "traceback": [
      "\u001b[0;31m---------------------------------------------------------------------------\u001b[0m",
      "\u001b[0;31mModuleNotFoundError\u001b[0m                       Traceback (most recent call last)",
      "Cell \u001b[0;32mIn[8], line 1\u001b[0m\n\u001b[0;32m----> 1\u001b[0m \u001b[38;5;28;01mfrom\u001b[39;00m \u001b[38;5;21;01mXRBID\u001b[39;00m\u001b[38;5;21;01m.\u001b[39;00m\u001b[38;5;21;01mXRBID\u001b[39;00m\u001b[38;5;21;01m.\u001b[39;00m\u001b[38;5;21;01mSources\u001b[39;00m \u001b[38;5;28;01mimport\u001b[39;00m LoadSources\n",
      "File \u001b[0;32m~/anaconda3/envs/jupyterbook/lib/python3.12/site-packages/XRBID/XRBID/Sources.py:25\u001b[0m\n\u001b[1;32m     22\u001b[0m imext \u001b[38;5;241m=\u001b[39m [\u001b[38;5;241m0.\u001b[39m, \u001b[38;5;241m13500.\u001b[39m]\n\u001b[1;32m     23\u001b[0m \u001b[38;5;28;01mimport\u001b[39;00m \u001b[38;5;21;01mos\u001b[39;00m\n\u001b[0;32m---> 25\u001b[0m \u001b[38;5;28;01mfrom\u001b[39;00m \u001b[38;5;21;01mXRBID\u001b[39;00m\u001b[38;5;21;01m.\u001b[39;00m\u001b[38;5;21;01mHeaders\u001b[39;00m \u001b[38;5;28;01mimport\u001b[39;00m heads, tabheads, tabheads_split, Greenx, Greeny, Redx, Redy, Bluex, Bluey, Radius, DaoNo, headers_dict, ID, Class, Class2, Conf, Notes, X, Y\n\u001b[1;32m     26\u001b[0m \u001b[38;5;28;01mfrom\u001b[39;00m \u001b[38;5;21;01mXRBID\u001b[39;00m\u001b[38;5;21;01m.\u001b[39;00m\u001b[38;5;21;01mDataFrameMod\u001b[39;00m \u001b[38;5;28;01mimport\u001b[39;00m BuildFrame, Find, Convert_to_Number\n\u001b[1;32m     28\u001b[0m \u001b[38;5;66;03m###-----------------------------------------------------------------------------------------------------\u001b[39;00m\n",
      "\u001b[0;31mModuleNotFoundError\u001b[0m: No module named 'XRBID.Headers'"
     ]
    }
   ],
   "source": [
    "from XRBID.XRBID.Sources import LoadSources"
   ]
  },
  {
   "cell_type": "code",
   "execution_count": null,
   "id": "4241bf5f",
   "metadata": {},
   "outputs": [],
   "source": []
  }
 ],
 "metadata": {
  "kernelspec": {
   "display_name": "Python (jupyterbook)",
   "language": "python",
   "name": "jupyterbook"
  },
  "language_info": {
   "codemirror_mode": {
    "name": "ipython",
    "version": 3
   },
   "file_extension": ".py",
   "mimetype": "text/x-python",
   "name": "python",
   "nbconvert_exporter": "python",
   "pygments_lexer": "ipython3",
   "version": "3.12.7"
  }
 },
 "nbformat": 4,
 "nbformat_minor": 5
}
