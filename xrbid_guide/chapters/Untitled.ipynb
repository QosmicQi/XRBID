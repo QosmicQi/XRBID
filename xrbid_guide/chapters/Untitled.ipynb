{
 "cells": [
  {
   "cell_type": "code",
   "execution_count": 1,
   "id": "c1128acb",
   "metadata": {},
   "outputs": [],
   "source": [
    "import XRBID"
   ]
  },
  {
   "cell_type": "code",
   "execution_count": 4,
   "id": "6e62c229",
   "metadata": {},
   "outputs": [
    {
     "name": "stdout",
     "output_type": "stream",
     "text": [
      "Once deleted, variables cannot be recovered. Proceed (y/[n])? y\n"
     ]
    },
    {
     "ename": "ModuleNotFoundError",
     "evalue": "No module named 'XRBID.Sources'",
     "output_type": "error",
     "traceback": [
      "\u001b[0;31m---------------------------------------------------------------------------\u001b[0m",
      "\u001b[0;31mModuleNotFoundError\u001b[0m                       Traceback (most recent call last)",
      "Cell \u001b[0;32mIn[4], line 2\u001b[0m\n\u001b[1;32m      1\u001b[0m get_ipython()\u001b[38;5;241m.\u001b[39mrun_line_magic(\u001b[38;5;124m'\u001b[39m\u001b[38;5;124mreset\u001b[39m\u001b[38;5;124m'\u001b[39m, \u001b[38;5;124m'\u001b[39m\u001b[38;5;124m'\u001b[39m)\n\u001b[0;32m----> 2\u001b[0m \u001b[38;5;28;01mfrom\u001b[39;00m \u001b[38;5;21;01mXRBID\u001b[39;00m\u001b[38;5;21;01m.\u001b[39;00m\u001b[38;5;21;01mSources\u001b[39;00m \u001b[38;5;28;01mimport\u001b[39;00m LoadSources\n",
      "\u001b[0;31mModuleNotFoundError\u001b[0m: No module named 'XRBID.Sources'"
     ]
    }
   ],
   "source": [
    "%reset\n",
    "from XRBID.Sources import LoadSources"
   ]
  },
  {
   "cell_type": "code",
   "execution_count": 5,
   "id": "d93ec9c6",
   "metadata": {},
   "outputs": [
    {
     "name": "stdout",
     "output_type": "stream",
     "text": [
      "/Users/qianahunt/anaconda3/envs/jupyterbook/bin/python\n"
     ]
    }
   ],
   "source": [
    "import sys\n",
    "print(sys.executable)"
   ]
  },
  {
   "cell_type": "code",
   "execution_count": 6,
   "id": "dc4905b2",
   "metadata": {},
   "outputs": [],
   "source": [
    "import sys\n",
    "sys.path.append('/Users/qianahunt/anaconda3/envs/jupyterbook/lib/python3.12/site-packages')"
   ]
  },
  {
   "cell_type": "code",
   "execution_count": 8,
   "id": "ccef32cc",
   "metadata": {},
   "outputs": [
    {
     "data": {
      "text/plain": [
       "['/Users/qianahunt/anaconda3/envs/jupyterbook/lib/python312.zip',\n",
       " '/Users/qianahunt/anaconda3/envs/jupyterbook/lib/python3.12',\n",
       " '/Users/qianahunt/anaconda3/envs/jupyterbook/lib/python3.12/lib-dynload',\n",
       " '',\n",
       " '/Users/qianahunt/anaconda3/envs/jupyterbook/lib/python3.12/site-packages',\n",
       " '/Users/qianahunt/Desktop/Research/JupyterBooks/XRBID/XRBID',\n",
       " '/Users/qianahunt/anaconda3/envs/jupyterbook/lib/python3.12/site-packages']"
      ]
     },
     "execution_count": 8,
     "metadata": {},
     "output_type": "execute_result"
    }
   ],
   "source": [
    "import sys\n",
    "sys.path"
   ]
  },
  {
   "cell_type": "code",
   "execution_count": 9,
   "id": "706ef590",
   "metadata": {},
   "outputs": [
    {
     "data": {
      "text/plain": [
       "'/Users/qianahunt/anaconda3/envs/jupyterbook/bin/python'"
      ]
     },
     "execution_count": 9,
     "metadata": {},
     "output_type": "execute_result"
    }
   ],
   "source": [
    "import sys\n",
    "sys.executable"
   ]
  },
  {
   "cell_type": "code",
   "execution_count": null,
   "id": "826b1eb7",
   "metadata": {},
   "outputs": [],
   "source": []
  }
 ],
 "metadata": {
  "kernelspec": {
   "display_name": "Python (jupyterbook)",
   "language": "python",
   "name": "jupyterbook"
  },
  "language_info": {
   "codemirror_mode": {
    "name": "ipython",
    "version": 3
   },
   "file_extension": ".py",
   "mimetype": "text/x-python",
   "name": "python",
   "nbconvert_exporter": "python",
   "pygments_lexer": "ipython3",
   "version": "3.12.7"
  }
 },
 "nbformat": 4,
 "nbformat_minor": 5
}
