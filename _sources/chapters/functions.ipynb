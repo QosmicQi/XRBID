{
 "cells": [
  {
   "cell_type": "markdown",
   "id": "2d8541b4",
   "metadata": {},
   "source": [
    "# Examples of `XRBID` Functions\n",
    "Throughout this guide, I've included several examples of how to use the functions accessible through `XRBID`. Here, I compile more examples of the functions in `XRBID` and how they may be used, especially those not discussed in the main guide. \n",
    "\n",
    "```{important}\n",
    "This section is under construction!\n",
    "```"
   ]
  }
 ],
 "metadata": {
  "kernelspec": {
   "display_name": "Python (jupyterbook)",
   "language": "python",
   "name": "jupyterbook"
  },
  "language_info": {
   "codemirror_mode": {
    "name": "ipython",
    "version": 3
   },
   "file_extension": ".py",
   "mimetype": "text/x-python",
   "name": "python",
   "nbconvert_exporter": "python",
   "pygments_lexer": "ipython3",
   "version": "3.12.7"
  }
 },
 "nbformat": 4,
 "nbformat_minor": 5
}
